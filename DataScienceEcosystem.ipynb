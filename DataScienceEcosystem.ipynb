{
 "cells": [
  {
   "cell_type": "markdown",
   "metadata": {},
   "source": [
    "## Title of the notebook\n",
    "## Introduction\n",
    "## List of data science languages\n",
    "## List of data science libraries\n",
    "## Table of Data Science tools\n",
    "## Introduction to arithmetic expression\n",
    "## Multiplication and addition numbers\n",
    "## Convertig minutes to hours\n",
    "# List of Objectives\n",
    "# Author’s name\n"
   ]
  },
  {
   "cell_type": "markdown",
   "metadata": {},
   "source": [
    "## DataScienceEcosystem"
   ]
  },
  {
   "cell_type": "markdown",
   "metadata": {},
   "source": [
    "## Introduction\n",
    "\n",
    "Welcome to my Jupyter Notebook! In this notebook, I will explore various data science concepts and techniques.\n"
   ]
  },
  {
   "cell_type": "markdown",
   "metadata": {},
   "source": [
    "## Data Science Languages\n",
    "\n",
    "Here are some popular data science languages:\n",
    "\n",
    "- Python\n",
    "- R\n",
    "- Julia\n",
    "- SQL\n"
   ]
  },
  {
   "cell_type": "markdown",
   "metadata": {},
   "source": [
    "## Data Science Libraries\n",
    "\n",
    "Here are some popular data science libraries:\n",
    "\n",
    "- Pandas\n",
    "- NumPy\n",
    "- Matplotlib\n",
    "- Seaborn\n",
    "- SciPy\n",
    "- Scikit-learn\n",
    "- TensorFlow\n",
    "- PyTorch\n"
   ]
  },
  {
   "cell_type": "markdown",
   "metadata": {},
   "source": [
    "## Data Science Tools\n",
    "\n",
    "| Category          | Tools                           |\n",
    "|-------------------|---------------------------------|\n",
    "| Programming       | Python, R, Julia                |\n",
    "| Data Manipulation | Pandas, NumPy, dplyr            |\n",
    "| Visualization     | Matplotlib, Seaborn, Plotly     |\n",
    "| Machine Learning  | Scikit-learn, TensorFlow, PyTorch|\n",
    "| Statistical Analysis | SciPy, StatsModels           |\n",
    "| Database          | SQL, SQLite,\n"
   ]
  },
  {
   "cell_type": "markdown",
   "metadata": {},
   "source": [
    "## Arithmetic Expression Examples\n",
    "\n",
    "In this section, we will explore examples of arithmetic expressions in Python. We will cover basic arithmetic operations such as addition, subtraction, multiplication, and division, as well as more complex expressions involving parentheses and operator precedence.\n"
   ]
  },
  {
   "cell_type": "code",
   "execution_count": 4,
   "metadata": {},
   "outputs": [
    {
     "name": "stdout",
     "output_type": "stream",
     "text": [
      "Result of multiplication: 500\n",
      "Result of addition: 60\n"
     ]
    }
   ],
   "source": [
    "# Multiply numbers\n",
    "result_multiply = 50 * 10\n",
    "\n",
    "# Add numbers\n",
    "result_addition = 50 + 10\n",
    "\n",
    "# Print results\n",
    "print(\"Result of multiplication:\", result_multiply)\n",
    "print(\"Result of addition:\", result_addition)\n"
   ]
  },
  {
   "cell_type": "code",
   "execution_count": 3,
   "metadata": {},
   "outputs": [
    {
     "name": "stdout",
     "output_type": "stream",
     "text": [
      "180 minutes is equal to 3.0 hours\n"
     ]
    }
   ],
   "source": [
    "# Define the number of minutes\n",
    "minutes = 180\n",
    "\n",
    "# Convert minutes to hours\n",
    "hours = minutes / 60\n",
    "\n",
    "# Print the result\n",
    "print(minutes, \"minutes is equal to\", hours, \"hours\")\n"
   ]
  },
  {
   "cell_type": "code",
   "execution_count": null,
   "metadata": {},
   "outputs": [],
   "source": []
  },
  {
   "cell_type": "markdown",
   "metadata": {},
   "source": [
    "## Objectives\n",
    "\n",
    "- Learn how to create Markdown cells in Jupyter Notebook.\n",
    "- Practice writing Python code in code cells.\n",
    "- Explore various data science concepts and techniques.\n",
    "- Gain experience with Jupyter Notebook features such as code execution and visualization.\n"
   ]
  },
  {
   "cell_type": "markdown",
   "metadata": {},
   "source": [
    "#Author’s name\n",
    "KABANDA ALEX"
   ]
  }
 ],
 "metadata": {
  "kernelspec": {
   "display_name": "Python 3",
   "language": "python",
   "name": "python3"
  },
  "language_info": {
   "codemirror_mode": {
    "name": "ipython",
    "version": 3
   },
   "file_extension": ".py",
   "mimetype": "text/x-python",
   "name": "python",
   "nbconvert_exporter": "python",
   "pygments_lexer": "ipython3",
   "version": "3.11.4"
  }
 },
 "nbformat": 4,
 "nbformat_minor": 2
}
